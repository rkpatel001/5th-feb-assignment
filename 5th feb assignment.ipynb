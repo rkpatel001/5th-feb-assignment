{
 "cells": [
  {
   "cell_type": "code",
   "execution_count": 1,
   "id": "4a8d6c79-7e00-440c-8a6d-3be95d0d84d9",
   "metadata": {},
   "outputs": [],
   "source": [
    "# Q1. Explain Class and Object with respect to Object-Oriented Programming. Give a suitable example."
   ]
  },
  {
   "cell_type": "code",
   "execution_count": null,
   "id": "6208a3ef-1545-4120-a7cd-90ce2704f1c4",
   "metadata": {},
   "outputs": [],
   "source": [
    "'''class and objects are part of oops class is a classification of real world entity and object is a real world entity'''\n",
    "\n",
    "'''class pwskills(): #this is a class\n",
    "    \n",
    "    def __init__(self,fname,lname,mname):\n",
    "        self.first=fname\n",
    "        self.lname=lname\n",
    "        self.mname=mname\n",
    "        \n",
    "    def return_name():\n",
    "        return self.firs,self.lname,self.mname'''\n",
    "        \n",
    "    \n",
    "'''roank =  pwskills()'''    #this is a object"
   ]
  },
  {
   "cell_type": "code",
   "execution_count": null,
   "id": "8cad8fc4-8d0c-407e-8624-71d07736c8af",
   "metadata": {},
   "outputs": [],
   "source": [
    "# Q2. Name the four pillars of OOPs."
   ]
  },
  {
   "cell_type": "code",
   "execution_count": 12,
   "id": "b03bc49b-fcf6-46ce-bb8b-4d52da6ee0d1",
   "metadata": {},
   "outputs": [
    {
     "data": {
      "text/plain": [
       "'abstraction\\n   polymorpism\\n   inheritance\\n   encapsulation'"
      ]
     },
     "execution_count": 12,
     "metadata": {},
     "output_type": "execute_result"
    }
   ],
   "source": [
    "'''abstraction\n",
    "   polymorpism\n",
    "   inheritance\n",
    "   encapsulation'''\n"
   ]
  },
  {
   "cell_type": "code",
   "execution_count": null,
   "id": "d2a2a9c5-6b0e-4c4c-acdf-38230ecb58eb",
   "metadata": {},
   "outputs": [],
   "source": [
    "# Q3. Explain why the __init__() function is used. Give a suitable example."
   ]
  },
  {
   "cell_type": "code",
   "execution_count": null,
   "id": "c9319cb3-e628-49c3-89ed-6c7a1acef88e",
   "metadata": {},
   "outputs": [],
   "source": [
    "'''__init__is use to store data in givin argument'''\n",
    "'''class pwskills(): #this is a class\n",
    "    \n",
    "    def __init__(self,fname,lname,mname):\n",
    "        self.first=fname\n",
    "        self.lname=lname\n",
    "        self.mname=mname\n",
    "        \n",
    "    def return_name():\n",
    "        return self.firs,self.lname,self.mname'''\n",
    "        \n",
    "    \n",
    "'''roank =  pwskills()''' "
   ]
  },
  {
   "cell_type": "code",
   "execution_count": 13,
   "id": "dff942fe-3777-4d60-972b-e281ba10f311",
   "metadata": {},
   "outputs": [],
   "source": [
    "# Q4. Why self is used in OOPs?"
   ]
  },
  {
   "cell_type": "code",
   "execution_count": 14,
   "id": "e5addd7f-efaf-40a2-86fa-c3cd05f296bd",
   "metadata": {},
   "outputs": [
    {
     "data": {
      "text/plain": [
       "'The self variable is used to represent the instance of the class which is often used in object-oriented programming. It works as a reference to the object'"
      ]
     },
     "execution_count": 14,
     "metadata": {},
     "output_type": "execute_result"
    }
   ],
   "source": [
    "'''The self variable is used to represent the instance of the class which is often used in object-oriented programming. It works as a reference to the object'''"
   ]
  },
  {
   "cell_type": "code",
   "execution_count": 15,
   "id": "961bcd05-7f9e-4b29-98d4-384108281b15",
   "metadata": {},
   "outputs": [],
   "source": [
    "# Q5. What is inheritance? Give an example for each type of inheritance."
   ]
  },
  {
   "cell_type": "code",
   "execution_count": null,
   "id": "41f00e54-ece8-47af-8156-ff2de0f37f9e",
   "metadata": {},
   "outputs": [],
   "source": [
    "'''inheritance is a machinisam of acquring thr feature of class by another class'''"
   ]
  }
 ],
 "metadata": {
  "kernelspec": {
   "display_name": "Python 3 (ipykernel)",
   "language": "python",
   "name": "python3"
  },
  "language_info": {
   "codemirror_mode": {
    "name": "ipython",
    "version": 3
   },
   "file_extension": ".py",
   "mimetype": "text/x-python",
   "name": "python",
   "nbconvert_exporter": "python",
   "pygments_lexer": "ipython3",
   "version": "3.10.8"
  }
 },
 "nbformat": 4,
 "nbformat_minor": 5
}
